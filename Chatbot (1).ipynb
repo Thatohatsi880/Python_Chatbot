{
 "cells": [
  {
   "cell_type": "code",
   "execution_count": 14,
   "id": "08c0098c",
   "metadata": {
    "scrolled": true
   },
   "outputs": [],
   "source": [
    "import numpy as np\n",
    "import random\n",
    "\n",
    "import nltk\n",
    "from nltk.stem import WordNetLemmatizer\n",
    "lemmatizer = WordNetLemmatizer()\n",
    "import json\n",
    "import pickle\n",
    "\n",
    "intent_file = open(\"C:\\\\Users\\\\thato\\\\OneDrive\\\\Documents\\\\intents.json\").read()\n",
    "intents = json.loads(intent_file)\n"
   ]
  },
  {
   "cell_type": "code",
   "execution_count": 15,
   "id": "75cc31e1",
   "metadata": {},
   "outputs": [
    {
     "name": "stdout",
     "output_type": "stream",
     "text": [
      "0 documents\n",
      "0 classes []\n",
      "0 unique lemmatized words []\n"
     ]
    }
   ],
   "source": [
    "#lemmaztize and lower each word and remove duplicates\n",
    "words= []\n",
    "\n",
    "classes = []\n",
    "\n",
    "documents = []\n",
    "\n",
    "words = [lemmatizer.lemmatize(w.lower())\n",
    "         for w in words\n",
    "             if w not in ignore_letters]\n",
    "\n",
    "words = sorted(list(set(words)))\n",
    "\n",
    "classes = sorted(list(set(classes)))\n",
    "\n",
    "print(len(documents), \"documents\")\n",
    "\n",
    "print(len(classes), \"classes\", classes)\n",
    "\n",
    "print(len(words), \"unique lemmatized words\", words)\n",
    "\n",
    "pickle.dump(words, open('words.pkl', 'wb'))\n",
    "pickle.dump(classes, open('classes.pkl', 'wb'))\n"
   ]
  },
  {
   "cell_type": "code",
   "execution_count": null,
   "id": "a3d0bc77",
   "metadata": {},
   "outputs": [],
   "source": []
  },
  {
   "cell_type": "code",
   "execution_count": null,
   "id": "0718da93",
   "metadata": {},
   "outputs": [],
   "source": []
  }
 ],
 "metadata": {
  "kernelspec": {
   "display_name": "Python 3 (ipykernel)",
   "language": "python",
   "name": "python3"
  },
  "language_info": {
   "codemirror_mode": {
    "name": "ipython",
    "version": 3
   },
   "file_extension": ".py",
   "mimetype": "text/x-python",
   "name": "python",
   "nbconvert_exporter": "python",
   "pygments_lexer": "ipython3",
   "version": "3.9.7"
  }
 },
 "nbformat": 4,
 "nbformat_minor": 5
}
