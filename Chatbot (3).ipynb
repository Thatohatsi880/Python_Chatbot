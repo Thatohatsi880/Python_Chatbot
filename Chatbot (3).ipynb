{
 "cells": [
  {
   "cell_type": "code",
   "execution_count": 1,
   "id": "08c0098c",
   "metadata": {
    "scrolled": true
   },
   "outputs": [],
   "source": [
    "import numpy as np\n",
    "import random\n",
    "\n",
    "import nltk\n",
    "from nltk.stem import WordNetLemmatizer\n",
    "lemmatizer = WordNetLemmatizer()\n",
    "import json\n",
    "import pickle\n",
    "\n",
    "intent_file = open(\"C:\\\\Users\\\\thato\\\\OneDrive\\\\Documents\\\\intents.json\").read()\n",
    "intents = json.loads(intent_file)\n"
   ]
  },
  {
   "cell_type": "code",
   "execution_count": 2,
   "id": "75cc31e1",
   "metadata": {},
   "outputs": [
    {
     "name": "stdout",
     "output_type": "stream",
     "text": [
      "0 documents\n",
      "0 classes []\n",
      "0 unique lemmatized words []\n"
     ]
    }
   ],
   "source": [
    "#lemmaztize and lower each word and remove duplicates\n",
    "words= []\n",
    "\n",
    "classes = []\n",
    "\n",
    "documents = []\n",
    "\n",
    "words = [lemmatizer.lemmatize(w.lower())\n",
    "         for w in words\n",
    "             if w not in ignore_letters]\n",
    "\n",
    "words = sorted(list(set(words)))\n",
    "\n",
    "classes = sorted(list(set(classes)))\n",
    "\n",
    "print(len(documents), \"documents\")\n",
    "\n",
    "print(len(classes), \"classes\", classes)\n",
    "\n",
    "print(len(words), \"unique lemmatized words\", words)\n",
    "\n",
    "pickle.dump(words, open('words.pkl', 'wb'))\n",
    "pickle.dump(classes, open('classes.pkl', 'wb'))\n"
   ]
  },
  {
   "cell_type": "code",
   "execution_count": 3,
   "id": "a3d0bc77",
   "metadata": {},
   "outputs": [
    {
     "name": "stdout",
     "output_type": "stream",
     "text": [
      "training data is created\n"
     ]
    }
   ],
   "source": [
    "#creating training and testing data\n",
    "\n",
    "training = []\n",
    "# Creating empty array for the output\n",
    "result = [0] * len(classes)\n",
    "#training set, bag of words for every sentence\n",
    "for doc in documents:\n",
    "    #initializing bag of words\n",
    "    bag = []\n",
    "    words_patterns = doc[0]\n",
    "    word_patters = [lemmatizer.lemmatize(w.lower())\n",
    "             for w in words\n",
    "             if w not in ignore_letters]\n",
    "    for word in words:\n",
    "        bag.append(1) if word in word_patterns else bag.append(0)\n",
    "        \n",
    "    result_row = list(result)\n",
    "    result_row[classes.index(doc[1])] = 1\n",
    "    training.append(bag, result_row)\n",
    "    \n",
    "#shuffling the features and making numpy array\n",
    "random.shuffle(training)\n",
    "training = np.array(training)\n",
    "#create training and testinh lists. X - patterns, Y -intents\n",
    "train_x = list(training[:0])\n",
    "train_y = list(training[:1])\n",
    "print(\"training data is created\")"
   ]
  },
  {
   "cell_type": "code",
   "execution_count": null,
   "id": "0718da93",
   "metadata": {},
   "outputs": [],
   "source": []
  },
  {
   "cell_type": "code",
   "execution_count": null,
   "id": "56cca108",
   "metadata": {},
   "outputs": [],
   "source": []
  }
 ],
 "metadata": {
  "kernelspec": {
   "display_name": "Python 3 (ipykernel)",
   "language": "python",
   "name": "python3"
  },
  "language_info": {
   "codemirror_mode": {
    "name": "ipython",
    "version": 3
   },
   "file_extension": ".py",
   "mimetype": "text/x-python",
   "name": "python",
   "nbconvert_exporter": "python",
   "pygments_lexer": "ipython3",
   "version": "3.9.7"
  }
 },
 "nbformat": 4,
 "nbformat_minor": 5
}
